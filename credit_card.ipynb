{
 "cells": [
  {
   "cell_type": "code",
   "execution_count": 2,
   "metadata": {},
   "outputs": [],
   "source": [
    "import pandas as pd\n",
    "import numpy as np\n",
    "import matplotlib.pyplot as plt\n",
    "from sklearn.preprocessing import StandardScaler\n",
    "from sklearn.ensemble import RandomForestClassifier\n",
    "from sklearn.neighbors import KNeighborsClassifier\n",
    "from sklearn.linear_model import LogisticRegression\n",
    "from imblearn.pipeline import Pipeline\n",
    "from imblearn.over_sampling import SMOTE\n",
    "from imblearn.under_sampling import RandomUnderSampler\n",
    "from sklearn.model_selection import StratifiedKFold\n",
    "from sklearn.metrics import accuracy_score, confusion_matrix"
   ]
  },
  {
   "cell_type": "code",
   "execution_count": 2,
   "metadata": {},
   "outputs": [],
   "source": [
    "df=pd.read_csv(r'C:\\Users\\My PC\\Downloads\\creditcard.csv')"
   ]
  },
  {
   "cell_type": "code",
   "execution_count": 3,
   "metadata": {},
   "outputs": [
    {
     "data": {
      "text/html": [
       "<div>\n",
       "<style scoped>\n",
       "    .dataframe tbody tr th:only-of-type {\n",
       "        vertical-align: middle;\n",
       "    }\n",
       "\n",
       "    .dataframe tbody tr th {\n",
       "        vertical-align: top;\n",
       "    }\n",
       "\n",
       "    .dataframe thead th {\n",
       "        text-align: right;\n",
       "    }\n",
       "</style>\n",
       "<table border=\"1\" class=\"dataframe\">\n",
       "  <thead>\n",
       "    <tr style=\"text-align: right;\">\n",
       "      <th></th>\n",
       "      <th>Time</th>\n",
       "      <th>V1</th>\n",
       "      <th>V2</th>\n",
       "      <th>V3</th>\n",
       "      <th>V4</th>\n",
       "      <th>V5</th>\n",
       "      <th>V6</th>\n",
       "      <th>V7</th>\n",
       "      <th>V8</th>\n",
       "      <th>V9</th>\n",
       "      <th>...</th>\n",
       "      <th>V21</th>\n",
       "      <th>V22</th>\n",
       "      <th>V23</th>\n",
       "      <th>V24</th>\n",
       "      <th>V25</th>\n",
       "      <th>V26</th>\n",
       "      <th>V27</th>\n",
       "      <th>V28</th>\n",
       "      <th>Amount</th>\n",
       "      <th>Class</th>\n",
       "    </tr>\n",
       "  </thead>\n",
       "  <tbody>\n",
       "    <tr>\n",
       "      <th>0</th>\n",
       "      <td>0.0</td>\n",
       "      <td>-1.359807</td>\n",
       "      <td>-0.072781</td>\n",
       "      <td>2.536347</td>\n",
       "      <td>1.378155</td>\n",
       "      <td>-0.338321</td>\n",
       "      <td>0.462388</td>\n",
       "      <td>0.239599</td>\n",
       "      <td>0.098698</td>\n",
       "      <td>0.363787</td>\n",
       "      <td>...</td>\n",
       "      <td>-0.018307</td>\n",
       "      <td>0.277838</td>\n",
       "      <td>-0.110474</td>\n",
       "      <td>0.066928</td>\n",
       "      <td>0.128539</td>\n",
       "      <td>-0.189115</td>\n",
       "      <td>0.133558</td>\n",
       "      <td>-0.021053</td>\n",
       "      <td>149.62</td>\n",
       "      <td>0</td>\n",
       "    </tr>\n",
       "    <tr>\n",
       "      <th>1</th>\n",
       "      <td>0.0</td>\n",
       "      <td>1.191857</td>\n",
       "      <td>0.266151</td>\n",
       "      <td>0.166480</td>\n",
       "      <td>0.448154</td>\n",
       "      <td>0.060018</td>\n",
       "      <td>-0.082361</td>\n",
       "      <td>-0.078803</td>\n",
       "      <td>0.085102</td>\n",
       "      <td>-0.255425</td>\n",
       "      <td>...</td>\n",
       "      <td>-0.225775</td>\n",
       "      <td>-0.638672</td>\n",
       "      <td>0.101288</td>\n",
       "      <td>-0.339846</td>\n",
       "      <td>0.167170</td>\n",
       "      <td>0.125895</td>\n",
       "      <td>-0.008983</td>\n",
       "      <td>0.014724</td>\n",
       "      <td>2.69</td>\n",
       "      <td>0</td>\n",
       "    </tr>\n",
       "    <tr>\n",
       "      <th>2</th>\n",
       "      <td>1.0</td>\n",
       "      <td>-1.358354</td>\n",
       "      <td>-1.340163</td>\n",
       "      <td>1.773209</td>\n",
       "      <td>0.379780</td>\n",
       "      <td>-0.503198</td>\n",
       "      <td>1.800499</td>\n",
       "      <td>0.791461</td>\n",
       "      <td>0.247676</td>\n",
       "      <td>-1.514654</td>\n",
       "      <td>...</td>\n",
       "      <td>0.247998</td>\n",
       "      <td>0.771679</td>\n",
       "      <td>0.909412</td>\n",
       "      <td>-0.689281</td>\n",
       "      <td>-0.327642</td>\n",
       "      <td>-0.139097</td>\n",
       "      <td>-0.055353</td>\n",
       "      <td>-0.059752</td>\n",
       "      <td>378.66</td>\n",
       "      <td>0</td>\n",
       "    </tr>\n",
       "    <tr>\n",
       "      <th>3</th>\n",
       "      <td>1.0</td>\n",
       "      <td>-0.966272</td>\n",
       "      <td>-0.185226</td>\n",
       "      <td>1.792993</td>\n",
       "      <td>-0.863291</td>\n",
       "      <td>-0.010309</td>\n",
       "      <td>1.247203</td>\n",
       "      <td>0.237609</td>\n",
       "      <td>0.377436</td>\n",
       "      <td>-1.387024</td>\n",
       "      <td>...</td>\n",
       "      <td>-0.108300</td>\n",
       "      <td>0.005274</td>\n",
       "      <td>-0.190321</td>\n",
       "      <td>-1.175575</td>\n",
       "      <td>0.647376</td>\n",
       "      <td>-0.221929</td>\n",
       "      <td>0.062723</td>\n",
       "      <td>0.061458</td>\n",
       "      <td>123.50</td>\n",
       "      <td>0</td>\n",
       "    </tr>\n",
       "    <tr>\n",
       "      <th>4</th>\n",
       "      <td>2.0</td>\n",
       "      <td>-1.158233</td>\n",
       "      <td>0.877737</td>\n",
       "      <td>1.548718</td>\n",
       "      <td>0.403034</td>\n",
       "      <td>-0.407193</td>\n",
       "      <td>0.095921</td>\n",
       "      <td>0.592941</td>\n",
       "      <td>-0.270533</td>\n",
       "      <td>0.817739</td>\n",
       "      <td>...</td>\n",
       "      <td>-0.009431</td>\n",
       "      <td>0.798278</td>\n",
       "      <td>-0.137458</td>\n",
       "      <td>0.141267</td>\n",
       "      <td>-0.206010</td>\n",
       "      <td>0.502292</td>\n",
       "      <td>0.219422</td>\n",
       "      <td>0.215153</td>\n",
       "      <td>69.99</td>\n",
       "      <td>0</td>\n",
       "    </tr>\n",
       "  </tbody>\n",
       "</table>\n",
       "<p>5 rows × 31 columns</p>\n",
       "</div>"
      ],
      "text/plain": [
       "   Time        V1        V2        V3        V4        V5        V6        V7  \\\n",
       "0   0.0 -1.359807 -0.072781  2.536347  1.378155 -0.338321  0.462388  0.239599   \n",
       "1   0.0  1.191857  0.266151  0.166480  0.448154  0.060018 -0.082361 -0.078803   \n",
       "2   1.0 -1.358354 -1.340163  1.773209  0.379780 -0.503198  1.800499  0.791461   \n",
       "3   1.0 -0.966272 -0.185226  1.792993 -0.863291 -0.010309  1.247203  0.237609   \n",
       "4   2.0 -1.158233  0.877737  1.548718  0.403034 -0.407193  0.095921  0.592941   \n",
       "\n",
       "         V8        V9  ...       V21       V22       V23       V24       V25  \\\n",
       "0  0.098698  0.363787  ... -0.018307  0.277838 -0.110474  0.066928  0.128539   \n",
       "1  0.085102 -0.255425  ... -0.225775 -0.638672  0.101288 -0.339846  0.167170   \n",
       "2  0.247676 -1.514654  ...  0.247998  0.771679  0.909412 -0.689281 -0.327642   \n",
       "3  0.377436 -1.387024  ... -0.108300  0.005274 -0.190321 -1.175575  0.647376   \n",
       "4 -0.270533  0.817739  ... -0.009431  0.798278 -0.137458  0.141267 -0.206010   \n",
       "\n",
       "        V26       V27       V28  Amount  Class  \n",
       "0 -0.189115  0.133558 -0.021053  149.62      0  \n",
       "1  0.125895 -0.008983  0.014724    2.69      0  \n",
       "2 -0.139097 -0.055353 -0.059752  378.66      0  \n",
       "3 -0.221929  0.062723  0.061458  123.50      0  \n",
       "4  0.502292  0.219422  0.215153   69.99      0  \n",
       "\n",
       "[5 rows x 31 columns]"
      ]
     },
     "execution_count": 3,
     "metadata": {},
     "output_type": "execute_result"
    }
   ],
   "source": [
    "df.head()"
   ]
  },
  {
   "cell_type": "code",
   "execution_count": 4,
   "metadata": {},
   "outputs": [
    {
     "data": {
      "text/plain": [
       "Index(['Time', 'V1', 'V2', 'V3', 'V4', 'V5', 'V6', 'V7', 'V8', 'V9', 'V10',\n",
       "       'V11', 'V12', 'V13', 'V14', 'V15', 'V16', 'V17', 'V18', 'V19', 'V20',\n",
       "       'V21', 'V22', 'V23', 'V24', 'V25', 'V26', 'V27', 'V28', 'Amount',\n",
       "       'Class'],\n",
       "      dtype='object')"
      ]
     },
     "execution_count": 4,
     "metadata": {},
     "output_type": "execute_result"
    }
   ],
   "source": [
    "df.columns"
   ]
  },
  {
   "cell_type": "code",
   "execution_count": 5,
   "metadata": {},
   "outputs": [
    {
     "data": {
      "text/plain": [
       "Time      float64\n",
       "V1        float64\n",
       "V2        float64\n",
       "V3        float64\n",
       "V4        float64\n",
       "V5        float64\n",
       "V6        float64\n",
       "V7        float64\n",
       "V8        float64\n",
       "V9        float64\n",
       "V10       float64\n",
       "V11       float64\n",
       "V12       float64\n",
       "V13       float64\n",
       "V14       float64\n",
       "V15       float64\n",
       "V16       float64\n",
       "V17       float64\n",
       "V18       float64\n",
       "V19       float64\n",
       "V20       float64\n",
       "V21       float64\n",
       "V22       float64\n",
       "V23       float64\n",
       "V24       float64\n",
       "V25       float64\n",
       "V26       float64\n",
       "V27       float64\n",
       "V28       float64\n",
       "Amount    float64\n",
       "Class       int64\n",
       "dtype: object"
      ]
     },
     "execution_count": 5,
     "metadata": {},
     "output_type": "execute_result"
    }
   ],
   "source": [
    "df.dtypes"
   ]
  },
  {
   "cell_type": "code",
   "execution_count": 6,
   "metadata": {},
   "outputs": [
    {
     "data": {
      "text/plain": [
       "Time      0\n",
       "V1        0\n",
       "V2        0\n",
       "V3        0\n",
       "V4        0\n",
       "V5        0\n",
       "V6        0\n",
       "V7        0\n",
       "V8        0\n",
       "V9        0\n",
       "V10       0\n",
       "V11       0\n",
       "V12       0\n",
       "V13       0\n",
       "V14       0\n",
       "V15       0\n",
       "V16       0\n",
       "V17       0\n",
       "V18       0\n",
       "V19       0\n",
       "V20       0\n",
       "V21       0\n",
       "V22       0\n",
       "V23       0\n",
       "V24       0\n",
       "V25       0\n",
       "V26       0\n",
       "V27       0\n",
       "V28       0\n",
       "Amount    0\n",
       "Class     0\n",
       "dtype: int64"
      ]
     },
     "execution_count": 6,
     "metadata": {},
     "output_type": "execute_result"
    }
   ],
   "source": [
    "df.isnull().sum()"
   ]
  },
  {
   "cell_type": "code",
   "execution_count": 7,
   "metadata": {},
   "outputs": [
    {
     "data": {
      "text/plain": [
       "0    284315\n",
       "1       492\n",
       "Name: Class, dtype: int64"
      ]
     },
     "execution_count": 7,
     "metadata": {},
     "output_type": "execute_result"
    }
   ],
   "source": [
    "df['Class'].value_counts()"
   ]
  },
  {
   "cell_type": "code",
   "execution_count": 14,
   "metadata": {},
   "outputs": [
    {
     "data": {
      "image/png": "[encoded data removed]",
      "text/plain": [
       "<Figure size 432x288 with 1 Axes>"
      ]
     },
     "metadata": {
      "needs_background": "light"
     },
     "output_type": "display_data"
    }
   ],
   "source": [
    "plt.bar(height=[df['Class'].value_counts()[0],df['Class'].value_counts()[1]],x=['Non-Frudulent','Frudulent'])\n",
    "plt.show()"
   ]
  },
  {
   "cell_type": "code",
   "execution_count": 70,
   "metadata": {},
   "outputs": [
    {
     "data": {
      "image/png": "[encoded data removed]",
      "text/plain": [
       "<Figure size 432x288 with 2 Axes>"
      ]
     },
     "metadata": {
      "needs_background": "light"
     },
     "output_type": "display_data"
    }
   ],
   "source": [
    "f, (ax1, ax2) = plt.subplots(2, 1, sharex=True)\n",
    "f.suptitle('Distribution of amount')\n",
    "bins = 50\n",
    "\n",
    "fraud_amount_val = df[df['Class']==1]['Amount'].values\n",
    "non_fraud_amount_val = df[df['Class']==0]['Amount'].values\n",
    "\n",
    "ax1.hist(fraud_amount_val, bins = bins)\n",
    "ax1.set_title('Fraudulent')\n",
    "ax2.hist(non_fraud_amount_val, bins = bins)\n",
    "ax2.set_title('Non-Fraudulent')\n",
    "plt.xlabel('Amount')\n",
    "plt.ylabel('Number of Transactions')\n",
    "plt.xlim((0, 20000))\n",
    "plt.yscale('log')"
   ]
  },
  {
   "cell_type": "code",
   "execution_count": 68,
   "metadata": {},
   "outputs": [
    {
     "data": {
      "text/plain": [
       "Text(0, 0.5, 'Amount')"
      ]
     },
     "execution_count": 68,
     "metadata": {},
     "output_type": "execute_result"
    },
    {
     "data": {
      "image/png": "[encoded data removed]",
      "text/plain": [
       "<Figure size 432x288 with 2 Axes>"
      ]
     },
     "metadata": {
      "needs_background": "light"
     },
     "output_type": "display_data"
    }
   ],
   "source": [
    "fig, (ax1, ax2) = plt.subplots(2, 1, sharex=True)\n",
    "fig.suptitle('Time of transaction vs Amount by class')\n",
    "\n",
    "fraud_time_val = df[df['Class']==1]['Time'].values\n",
    "non_fraud_time_val = df[df['Class']==0]['Time'].values\n",
    "\n",
    "ax1.scatter(fraud_time_val,fraud_amount_val)\n",
    "ax1.set_title('Fraudulent')\n",
    "ax2.scatter(non_fraud_time_val,non_fraud_amount_val)\n",
    "ax2.set_title('Non-Fraudulent')\n",
    "plt.xlabel('Time')\n",
    "plt.ylabel('Amount')"
   ]
  },
  {
   "cell_type": "code",
   "execution_count": 8,
   "metadata": {},
   "outputs": [],
   "source": [
    "sc=StandardScaler()\n",
    "df['Time']=sc.fit_transform(df['Time'].values.reshape(-1,1))\n",
    "df['Amount']=sc.fit_transform(df['Amount'].values.reshape(-1,1))"
   ]
  },
  {
   "cell_type": "code",
   "execution_count": 9,
   "metadata": {},
   "outputs": [],
   "source": [
    "X=df.drop('Class',axis=1)\n",
    "y=df['Class']\n",
    "skf=StratifiedKFold(n_splits=3, random_state=None, shuffle=False)\n",
    "for test, train in skf.split(X,y):\n",
    "    original_X_train, original_X_test = X.iloc[train],X.iloc[test]\n",
    "    original_y_train, original_y_test = y.iloc[train],y.iloc[test]"
   ]
  },
  {
   "cell_type": "code",
   "execution_count": 21,
   "metadata": {},
   "outputs": [
    {
     "name": "stdout",
     "output_type": "stream",
     "text": [
      "Training set 577.8719512195122\n",
      "Test set 577.8780487804878\n"
     ]
    }
   ],
   "source": [
    "print('Training set {}'.format(original_y_train.value_counts()[0]/original_y_train.value_counts()[1]))\n",
    "print('Test set {}'.format(original_y_test.value_counts()[0]/original_y_test.value_counts()[1]))"
   ]
  },
  {
   "cell_type": "markdown",
   "metadata": {},
   "source": [
    "# Under sampling:"
   ]
  },
  {
   "cell_type": "markdown",
   "metadata": {},
   "source": [
    "Random Forest Classifier:"
   ]
  },
  {
   "cell_type": "code",
   "execution_count": 10,
   "metadata": {},
   "outputs": [
    {
     "name": "stdout",
     "output_type": "stream",
     "text": [
      "Training score: 0.9262969400115869\n",
      "Test score: 0.8381119912362013\n",
      "[[158824  30720]\n",
      " [    18    310]]\n"
     ]
    }
   ],
   "source": [
    "steps=[('under', RandomUnderSampler()), ('model', RandomForestClassifier(n_estimators=300,random_state=0,max_depth=6))]\n",
    "pipeline = Pipeline(steps=steps)\n",
    "skf=StratifiedKFold(n_splits=3, random_state=None, shuffle=False)\n",
    "accuracy=[]\n",
    "for test, train in skf.split(original_X_train,original_y_train):\n",
    "    X_train, X_test = original_X_train.iloc[train],original_X_train.iloc[test]\n",
    "    y_train, y_test = original_y_train.iloc[train],original_y_train.iloc[test]\n",
    "    pipeline.fit(X_train,y_train)\n",
    "    accuracy.append(accuracy_score(y_test,pipeline.predict(X_test)))\n",
    "    \n",
    "print('Training score: {}'.format(np.mean(np.array(accuracy))))\n",
    "print('Test score: {}'.format(accuracy_score(original_y_test,pipeline.predict(original_X_test))))\n",
    "print(confusion_matrix(original_y_test,pipeline.predict(original_X_test)))"
   ]
  },
  {
   "cell_type": "markdown",
   "metadata": {},
   "source": [
    "Logistic Regression:"
   ]
  },
  {
   "cell_type": "code",
   "execution_count": 22,
   "metadata": {},
   "outputs": [
    {
     "name": "stdout",
     "output_type": "stream",
     "text": [
      "Training score: 0.9861747511455207\n",
      "Test score: 0.9794071795736075\n",
      "[[185674   3870]\n",
      " [    40    288]]\n"
     ]
    }
   ],
   "source": [
    "steps=[('under', RandomUnderSampler()), ('model', KNeighborsClassifier())]\n",
    "pipeline = Pipeline(steps=steps)\n",
    "skf=StratifiedKFold(n_splits=3, random_state=None, shuffle=False)\n",
    "accuracy=[]\n",
    "for test, train in skf.split(original_X_train,original_y_train):\n",
    "    X_train, X_test = original_X_train.iloc[train],original_X_train.iloc[test]\n",
    "    y_train, y_test = original_y_train.iloc[train],original_y_train.iloc[test]\n",
    "    pipeline.fit(X_train,y_train)\n",
    "    accuracy.append(accuracy_score(y_test,pipeline.predict(X_test)))\n",
    "    \n",
    "print('Training score: {}'.format(np.mean(np.array(accuracy))))\n",
    "print('Test score: {}'.format(accuracy_score(original_y_test,pipeline.predict(original_X_test))))\n",
    "print(confusion_matrix(original_y_test,pipeline.predict(original_X_test)))"
   ]
  },
  {
   "cell_type": "markdown",
   "metadata": {},
   "source": [
    "# Over Sampling:"
   ]
  },
  {
   "cell_type": "markdown",
   "metadata": {},
   "source": [
    "Random Forest Classifier:"
   ]
  },
  {
   "cell_type": "code",
   "execution_count": 12,
   "metadata": {},
   "outputs": [
    {
     "name": "stdout",
     "output_type": "stream",
     "text": [
      "Training score: 0.9137567809553905\n",
      "Test score: 0.963733462543187\n",
      "[[182708   6836]\n",
      " [    50    278]]\n"
     ]
    }
   ],
   "source": [
    "steps=[('over', SMOTE()), ('model', RandomForestClassifier(n_estimators=300,random_state=0,max_depth=6))]\n",
    "pipeline = Pipeline(steps=steps)\n",
    "skf=StratifiedKFold(n_splits=3, random_state=None, shuffle=False)\n",
    "accuracy=[]\n",
    "for test, train in skf.split(original_X_train,original_y_train):\n",
    "    X_train, X_test = original_X_train.iloc[train],original_X_train.iloc[test]\n",
    "    y_train, y_test = original_y_train.iloc[train],original_y_train.iloc[test]\n",
    "    pipeline.fit(X_train,y_train)\n",
    "    accuracy.append(accuracy_score(y_test,pipeline.predict(X_test)))\n",
    "    \n",
    "print('Training score: {}'.format(np.mean(np.array(accuracy))))\n",
    "print('Test score: {}'.format(accuracy_score(original_y_test,pipeline.predict(original_X_test))))\n",
    "print(confusion_matrix(original_y_test,pipeline.predict(original_X_test)))"
   ]
  },
  {
   "cell_type": "markdown",
   "metadata": {},
   "source": [
    "Logistic Regression:"
   ]
  },
  {
   "cell_type": "code",
   "execution_count": 23,
   "metadata": {},
   "outputs": [
    {
     "name": "stdout",
     "output_type": "stream",
     "text": [
      "Training score: 0.9972928846052561\n",
      "Test score: 0.9945436925929046\n",
      "[[188579    965]\n",
      " [    71    257]]\n"
     ]
    }
   ],
   "source": [
    "steps=[('over', SMOTE()), ('model', KNeighborsClassifier())]\n",
    "pipeline = Pipeline(steps=steps)\n",
    "skf=StratifiedKFold(n_splits=3, random_state=None, shuffle=False)\n",
    "accuracy=[]\n",
    "for test, train in skf.split(original_X_train,original_y_train):\n",
    "    X_train, X_test = original_X_train.iloc[train],original_X_train.iloc[test]\n",
    "    y_train, y_test = original_y_train.iloc[train],original_y_train.iloc[test]\n",
    "    pipeline.fit(X_train,y_train)\n",
    "    accuracy.append(accuracy_score(y_test,pipeline.predict(X_test)))\n",
    "    \n",
    "print('Training score: {}'.format(np.mean(np.array(accuracy))))\n",
    "print('Test score: {}'.format(accuracy_score(original_y_test,pipeline.predict(original_X_test))))\n",
    "print(confusion_matrix(original_y_test,pipeline.predict(original_X_test)))"
   ]
  },
  {
   "cell_type": "markdown",
   "metadata": {},
   "source": [
    "# Combinig both over and under sampling:"
   ]
  },
  {
   "cell_type": "markdown",
   "metadata": {},
   "source": [
    "Random Forest Classifier:"
   ]
  },
  {
   "cell_type": "code",
   "execution_count": 24,
   "metadata": {},
   "outputs": [
    {
     "name": "stdout",
     "output_type": "stream",
     "text": [
      "Training score: 0.9325696529204192\n",
      "Test score: 0.9261186483525744\n",
      "[[175547  13997]\n",
      " [    31    297]]\n"
     ]
    }
   ],
   "source": [
    "steps=[('under', RandomUnderSampler()),('over', SMOTE()), ('model', RandomForestClassifier(n_estimators=300,random_state=0,max_depth=6))]\n",
    "pipeline = Pipeline(steps=steps)\n",
    "skf=StratifiedKFold(n_splits=3, random_state=None, shuffle=False)\n",
    "accuracy=[]\n",
    "for test, train in skf.split(original_X_train,original_y_train):\n",
    "    X_train, X_test = original_X_train.iloc[train],original_X_train.iloc[test]\n",
    "    y_train, y_test = original_y_train.iloc[train],original_y_train.iloc[test]\n",
    "    pipeline.fit(X_train,y_train)\n",
    "    accuracy.append(accuracy_score(y_test,pipeline.predict(X_test)))\n",
    "    \n",
    "print('Training score: {}'.format(np.mean(np.array(accuracy))))\n",
    "print('Test score: {}'.format(accuracy_score(original_y_test,pipeline.predict(original_X_test))))\n",
    "print(confusion_matrix(original_y_test,pipeline.predict(original_X_test)))"
   ]
  },
  {
   "cell_type": "markdown",
   "metadata": {},
   "source": [
    "Logistic Regression:"
   ]
  },
  {
   "cell_type": "code",
   "execution_count": 25,
   "metadata": {},
   "outputs": [
    {
     "name": "stdout",
     "output_type": "stream",
     "text": [
      "Training score: 0.9882761889714016\n",
      "Test score: 0.986206497008511\n",
      "[[186966   2578]\n",
      " [    41    287]]\n"
     ]
    }
   ],
   "source": [
    "steps=[('under', RandomUnderSampler()),('over', SMOTE()), ('model', KNeighborsClassifier())]\n",
    "pipeline = Pipeline(steps=steps)\n",
    "skf=StratifiedKFold(n_splits=3, random_state=None, shuffle=False)\n",
    "accuracy=[]\n",
    "for test, train in skf.split(original_X_train,original_y_train):\n",
    "    X_train, X_test = original_X_train.iloc[train],original_X_train.iloc[test]\n",
    "    y_train, y_test = original_y_train.iloc[train],original_y_train.iloc[test]\n",
    "    pipeline.fit(X_train,y_train)\n",
    "    accuracy.append(accuracy_score(y_test,pipeline.predict(X_test)))\n",
    "    \n",
    "print('Training score: {}'.format(np.mean(np.array(accuracy))))\n",
    "print('Test score: {}'.format(accuracy_score(original_y_test,pipeline.predict(original_X_test))))\n",
    "print(confusion_matrix(original_y_test,pipeline.predict(original_X_test)))"
   ]
  },
  {
   "cell_type": "code",
   "execution_count": null,
   "metadata": {},
   "outputs": [],
   "source": []
  }
 ],
 "metadata": {
  "kernelspec": {
   "display_name": "Python 3",
   "language": "python",
   "name": "python3"
  },
  "language_info": {
   "codemirror_mode": {
    "name": "ipython",
    "version": 3
   },
   "file_extension": ".py",
   "mimetype": "text/x-python",
   "name": "python",
   "nbconvert_exporter": "python",
   "pygments_lexer": "ipython3",
   "version": "3.8.3"
  }
 },
 "nbformat": 4,
 "nbformat_minor": 4
}
